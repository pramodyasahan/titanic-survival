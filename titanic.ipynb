{
 "cells": [
  {
   "cell_type": "code",
   "execution_count": null,
   "id": "76e7f4b7-209e-478c-92d1-f3144b931e6f",
   "metadata": {},
   "outputs": [],
   "source": [
    "import pandas as pd\n",
    "import numpy as np\n",
    "import matplotlib.pyplot as olt\n",
    "from sklearn.svm import SVR\n",
    "from sklearn.compose import ColumnTransformer\n",
    "from sklearn.impute import SimpleImputer\n",
    "from sklearn.preprocessing import OneHotEncoder, LabelEncoder, StandardScaler"
   ]
  },
  {
   "cell_type": "code",
   "execution_count": null,
   "id": "aec539b7-1938-4a0c-bee4-8571f069b14f",
   "metadata": {},
   "outputs": [],
   "source": [
    "# Specify the path to your CSV file\n",
    "train_file_path = \"/Users/pramodyasahan/Documents/Kaggle Competition datasets/Titanic/train.csv\"\n",
    "\n",
    "# Read the CSV file into a pandas DataFrame\n",
    "df_train = pd.read_csv(train_file_path)"
   ]
  },
  {
   "cell_type": "code",
   "execution_count": null,
   "id": "356d2d02-7157-4d44-8ef4-09b19123de50",
   "metadata": {},
   "outputs": [],
   "source": [
    "test_file_path = \"/Users/pramodyasahan/Documents/Kaggle Competition datasets/Titanic/test.csv\"\n",
    "\n",
    "df_test = pd.read_csv(test_file_path)"
   ]
  },
  {
   "cell_type": "code",
   "execution_count": null,
   "id": "e9b42ea6-5bdb-46e4-84dc-bd62a82acaed",
   "metadata": {},
   "outputs": [],
   "source": [
    "X_train = df_train.iloc[:, [2,4,5]]\n",
    "y_train = df_train.iloc[:, 1]\n",
    "id = df_test.iloc[:, 0]"
   ]
  },
  {
   "cell_type": "code",
   "execution_count": null,
   "id": "c60a5366-75b6-463c-98ae-85939c747d8d",
   "metadata": {
    "scrolled": true
   },
   "outputs": [],
   "source": [
    "id = np.array(id)\n",
    "id"
   ]
  },
  {
   "cell_type": "code",
   "execution_count": null,
   "id": "449b7a10-622b-4010-99d2-4d0074064590",
   "metadata": {},
   "outputs": [],
   "source": [
    "ct = ColumnTransformer(transformers=[('encoder', OneHotEncoder(), [1])], remainder='passthrough')\n",
    "X_train = np.array(ct.fit_transform(X_train))"
   ]
  },
  {
   "cell_type": "code",
   "execution_count": null,
   "id": "30f09cc8-3204-4dd7-865e-29f617fa35ef",
   "metadata": {},
   "outputs": [],
   "source": [
    "imputer = SimpleImputer(missing_values=np.nan, strategy='mean')\n",
    "imputer.fit(X_train[:, 1:4])\n",
    "X_train[:, 1:4] = imputer.transform(X_train[:, 1:4])\n",
    "print(X_train)"
   ]
  },
  {
   "cell_type": "code",
   "execution_count": null,
   "id": "f2379cb6-d57a-485f-b612-a18ac53d87df",
   "metadata": {},
   "outputs": [],
   "source": [
    "X_test = df_test.iloc[:, [1,3,4]]\n",
    "X_test"
   ]
  },
  {
   "cell_type": "code",
   "execution_count": null,
   "id": "f60c1aa2-d995-4f21-b1b4-b7c6c572f823",
   "metadata": {},
   "outputs": [],
   "source": [
    "ct = ColumnTransformer(transformers=[('encoder', OneHotEncoder(), [1])], remainder='passthrough')\n",
    "X_test = np.array(ct.fit_transform(X_test))"
   ]
  },
  {
   "cell_type": "code",
   "execution_count": null,
   "id": "7e59be41-ebd9-4acf-bbd7-58a390174dbe",
   "metadata": {},
   "outputs": [],
   "source": [
    "imputer = SimpleImputer(missing_values=np.nan, strategy='mean')\n",
    "imputer.fit(X_test[:, 1:4])\n",
    "X_test[:, 1:4] = imputer.transform(X_test[:, 1:4])\n",
    "print(X_test)"
   ]
  },
  {
   "cell_type": "code",
   "execution_count": null,
   "id": "ca612588-f457-4024-a146-34df1b33acb5",
   "metadata": {},
   "outputs": [],
   "source": [
    "model = SVR(kernel='rbf')\n",
    "model.fit(X_train, y_train)"
   ]
  },
  {
   "cell_type": "code",
   "execution_count": null,
   "id": "dbbe4de9-3b77-48fe-bd85-008d318a4029",
   "metadata": {},
   "outputs": [],
   "source": [
    "y_pred = model.predict(X_test)\n",
    "y_pred"
   ]
  },
  {
   "cell_type": "code",
   "execution_count": null,
   "id": "6e5830ad-5519-4ae4-92bc-b9ac57c33fb3",
   "metadata": {},
   "outputs": [],
   "source": [
    "result = np.where(y_pred <= 0.5, 0, 1)\n",
    "result = np.array(result)\n",
    "result"
   ]
  },
  {
   "cell_type": "code",
   "execution_count": null,
   "id": "6780fb68-0696-4503-806f-8ab38bc0e96b",
   "metadata": {},
   "outputs": [],
   "source": [
    "df = pd.DataFrame(y_pred)\n",
    "\n",
    "file_path = '/Users/pramodyasahan/Documents/Kaggle Competition datasets/Titanic/pred.csv'\n",
    "\n",
    "df.to_csv(file_path, index=False, header=False)\n",
    "\n",
    "print(\"CSV file saved successfully.\")"
   ]
  },
  {
   "cell_type": "code",
   "execution_count": null,
   "id": "b95c7675-97da-4afd-9c28-04aa9e15d7e0",
   "metadata": {},
   "outputs": [],
   "source": [
    "array1 = np.array(result)\n",
    "array2 = np.array(id)       \n",
    "\n",
    "concatenated_array = np.column_stack((array2, array1))\n",
    "\n",
    "column_labels = ['PassengerId', 'Survived']\n",
    "\n",
    "df = pd.DataFrame(concatenated_array, columns=column_labels)\n",
    "\n",
    "df.to_csv(file_path, index=False)\n",
    "\n",
    "print(\"CSV file saved successfully.\")\n"
   ]
  },
  {
   "cell_type": "code",
   "execution_count": null,
   "id": "9222f237-0f09-44db-8ac6-d28bb45e0403",
   "metadata": {},
   "outputs": [],
   "source": []
  }
 ],
 "metadata": {
  "kernelspec": {
   "display_name": "Python 3 (ipykernel)",
   "language": "python",
   "name": "python3"
  },
  "language_info": {
   "codemirror_mode": {
    "name": "ipython",
    "version": 3
   },
   "file_extension": ".py",
   "mimetype": "text/x-python",
   "name": "python",
   "nbconvert_exporter": "python",
   "pygments_lexer": "ipython3",
   "version": "3.10.13"
  }
 },
 "nbformat": 4,
 "nbformat_minor": 5
}
